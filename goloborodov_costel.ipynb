{
 "cells": [
  {
   "cell_type": "code",
   "execution_count": 1,
   "metadata": {},
   "outputs": [
    {
     "name": "stdout",
     "output_type": "stream",
     "text": [
      "Nume: goloborodov\n",
      "Prenume: costel\n"
     ]
    }
   ],
   "source": [
    "nume = \"goloborodov\"\n",
    "prenume = \"costel\"\n",
    "print(f\"Nume: {nume}\\nPrenume: {prenume}\")\n"
   ]
  },
  {
   "cell_type": "code",
   "execution_count": 2,
   "metadata": {},
   "outputs": [
    {
     "name": "stdout",
     "output_type": "stream",
     "text": [
      "A + B este egal cu:7\n",
      "Diferenta dintre A si B este:1\n",
      "Produsul lu A * B este:12\n",
      "goloborodov\n",
      "goloborodov\n",
      "goloborodov\n",
      "goloborodov\n",
      "\n",
      "costel\n",
      "costel\n",
      "costel\n",
      "\n",
      "catul lu a si b este:1.3333333333333333\n",
      "-1\n",
      "Valoarea împărțirii sumei dintre A și B la 144 este: 0.04861111111111111\n"
     ]
    }
   ],
   "source": [
    "a = 4\n",
    "b = 3\n",
    "print(f\"A + B este egal cu:{a+b}\")\n",
    "print(f\"Diferenta dintre A si B este:{a - b}\")\n",
    "print(f\"Produsul lu A * B este:{a * b}\")\n",
    "print((nume + \"\\n\") * int(a))\n",
    "print((prenume + \"\\n\") * int(b))\n",
    "catul = a / b\n",
    "print(f\"catul lu a si b este:{catul}\")\n",
    "print(b - a)\n",
    "rezultat = (a + b) / 144\n",
    "print(f\"Valoarea împărțirii sumei dintre A și B la 144 este: {rezultat}\")"
   ]
  },
  {
   "cell_type": "code",
   "execution_count": 3,
   "metadata": {},
   "outputs": [
    {
     "name": "stdout",
     "output_type": "stream",
     "text": [
      "Ultimele 3 caractere: \n",
      "Primele 4 caractere: \n",
      "Text inversat: \n",
      "Cele 3 caractere din mijlocul textului inversat: \n",
      "Lungimea textului: 0\n",
      "Textul în majuscule: \n",
      "Text cu literele 'a' înlocuite cu '*': \n",
      "Textul conține cel puțin o cifră: False\n",
      "Text concatenat cu nume și prenume:  John Doe\n",
      "Textul se termină cu 'end': False\n",
      "Indicele primei apariții a substring-ului 'ana': -1\n"
     ]
    }
   ],
   "source": [
    "# 14. Creare variabilă și atribuirea unui string de la utilizator\n",
    "text = input(\"Text este:('Salut lume')\") \n",
    "# 15. \n",
    "print(\"Ultimele 3 caractere:\", text[-3:])\n",
    "# 16. \n",
    "print(\"Primele 4 caractere:\", text[:4])\n",
    "\n",
    "# 17. \n",
    "print(\"Text inversat:\", text[::-1])\n",
    "# 18. \n",
    "inversat_mijloc = text[::-1][len(text)//2-1:len(text)//2+2]\n",
    "print(\"Cele 3 caractere din mijlocul textului inversat:\", inversat_mijloc)\n",
    "\n",
    "# 19.\n",
    "lungime_text = len(text)\n",
    "print(\"Lungimea textului:\", lungime_text)\n",
    "# 20. \n",
    "text_majuscule = text.upper()\n",
    "print(\"Textul în majuscule:\", text_majuscule)\n",
    "\n",
    "# 21.\n",
    "text_inlocuit = text.replace(\"a\", \"*\")\n",
    "print(\"Text cu literele 'a' înlocuite cu '*':\", text_inlocuit)\n",
    "\n",
    "# 22. \n",
    "contine_cifra = any(caracter.isdigit() for caracter in text)\n",
    "print(\"Textul conține cel puțin o cifră:\", contine_cifra)\n",
    "\n",
    "# 23. \n",
    "nume_prenume = \"John Doe\"\n",
    "text_concatenat = text + \" \" + nume_prenume\n",
    "print(\"Text concatenat cu nume și prenume:\", text_concatenat)\n",
    "\n",
    "# 24. \n",
    "se_termina_cu_end = text.endswith(\"end\")\n",
    "print(\"Textul se termină cu 'end':\", se_termina_cu_end)\n",
    "\n",
    "# 25. \n",
    "indice_ana = text.find(\"ana\")\n",
    "print(\"Indicele primei apariții a substring-ului 'ana':\", indice_ana)\n"
   ]
  },
  {
   "cell_type": "code",
   "execution_count": 4,
   "metadata": {},
   "outputs": [
    {
     "name": "stdout",
     "output_type": "stream",
     "text": [
      "Rezultatul lu A + B este: 11\n",
      "A este pozitiv\n",
      "a este în intervalul [1-10]\n",
      "Variabila text are o lungime mai mare de 10 și conține cuvântul 'hello'\n",
      "A nu este multiplu al lui B\n"
     ]
    }
   ],
   "source": [
    "a = 4 \n",
    "b = 7\n",
    "c= a + b \n",
    "print(f\"Rezultatul lu A + B este: {c}\")\n",
    "if a > 0:\n",
    "    print(\"A este pozitiv\")\n",
    "else:\n",
    "    print(\"A nu este pozitiv\")\n",
    "if -4 <= a <= 10:\n",
    "    print(\"a este în intervalul [1-10]\")\n",
    "elif 11 <= a <= 20:\n",
    "    print(\"a este în intervalul [11-20]\")\n",
    "else:\n",
    "    print(\"a este mai mare de 20\")\n",
    "text = \"Salut, hello lume!\"\n",
    "\n",
    "if len(text) > 10 and \"hello\" in text:\n",
    "    print(\"Variabila text are o lungime mai mare de 10 și conține cuvântul 'hello'\")\n",
    "else:\n",
    "    print(\"Variabila text nu îndeplinește condițiile\")\n",
    "if a % b ==0:\n",
    "    print(\"A este multiplu al lui B\")\n",
    "else:\n",
    "    print(\"A nu este multiplu al lui B\")"
   ]
  },
  {
   "cell_type": "code",
   "execution_count": 5,
   "metadata": {},
   "outputs": [
    {
     "name": "stdout",
     "output_type": "stream",
     "text": [
      "Bună seara!\n",
      "6 este divizibil cu 2 și 3 simultan.\n",
      "Totul funcționează perfect!\n",
      "Textul este mai lung.\n",
      "Bine\n",
      "7 se află în intervalul de la 0 la 10.\n",
      "FizzBuzz\n",
      "An bisect\n"
     ]
    }
   ],
   "source": [
    "\n",
    "ora = 18\n",
    "\n",
    "if 0 <= ora < 12:\n",
    "    print(\"Bună dimineața!\")\n",
    "elif 12 <= ora < 18:\n",
    "    print(\"Bună ziua!\")\n",
    "elif 18 <= ora < 24:\n",
    "    print(\"Bună seara!\")\n",
    "else:\n",
    "    print(\"Noapte bună!\")\n",
    "\n",
    "\n",
    "a = 6\n",
    "\n",
    "if a % 2 == 0 and a % 3 == 0:\n",
    "    print(f\"{a} este divizibil cu 2 și 3 simultan.\")\n",
    "else:\n",
    "    print(f\"{a} nu este divizibil cu 2 și 3 simultan.\")\n",
    "\n",
    "\n",
    "text = \"Acesta este un mesaj de eroare.\"\n",
    "\n",
    "if \"error\" in text:\n",
    "    print(\"Trebuie să verificăm codul!\")\n",
    "else:\n",
    "    print(\"Totul funcționează perfect!\")\n",
    "\n",
    "\n",
    "nume_prenume = \"John Doe\"\n",
    "\n",
    "if len(text) > len(nume_prenume):\n",
    "    print(\"Textul este mai lung.\")\n",
    "elif len(text) < len(nume_prenume):\n",
    "    print(\"Numele și prenumele sunt mai lungi.\")\n",
    "else:\n",
    "    print(\"Cele două string-uri au lungimea egală.\")\n",
    "\n",
    "\n",
    "nota = 8\n",
    "\n",
    "if nota >= 9:\n",
    "    print(\"Excelent\")\n",
    "elif 7 <= nota <= 8:\n",
    "    print(\"Bine\")\n",
    "elif 5 <= nota <= 6:\n",
    "    print(\"Satisfăcător\")\n",
    "else:\n",
    "    print(\"Insuficient\")\n",
    "\n",
    "\n",
    "a = 7\n",
    "b = 10\n",
    "\n",
    "if 0 <= a <= b:\n",
    "    print(f\"{a} se află în intervalul de la 0 la {b}.\")\n",
    "\n",
    "\n",
    "numar = 15\n",
    "\n",
    "if numar % 3 == 0 and numar % 5 == 0:\n",
    "    print(\"FizzBuzz\")\n",
    "elif numar % 3 == 0:\n",
    "    print(\"Fizz\")\n",
    "elif numar % 5 == 0:\n",
    "    print(\"Buzz\")\n",
    "\n",
    "\n",
    "an = 2024\n",
    "\n",
    "if (an % 4 == 0 and an % 100 != 0) or (an % 400 == 0):\n",
    "    print(\"An bisect\")\n",
    "else:\n",
    "    print(\"An obișnuit\")\n"
   ]
  },
  {
   "cell_type": "code",
   "execution_count": 6,
   "metadata": {},
   "outputs": [
    {
     "name": "stdout",
     "output_type": "stream",
     "text": [
      "6 este divizibil cu 2 și 3 simultan.\n",
      "Totul funcționează perfect!\n",
      "Textul este mai lung.\n"
     ]
    }
   ],
   "source": [
    "\n",
    "a = 6\n",
    "\n",
    "if a % 2 == 0 and a % 3 == 0:\n",
    "    print(f\"{a} este divizibil cu 2 și 3 simultan.\")\n",
    "else:\n",
    "    print(f\"{a} nu este divizibil cu 2 și 3 simultan.\")\n",
    "\n",
    "\n",
    "text = \"Acesta este un mesaj de eroare.\"\n",
    "\n",
    "if \"error\" in text:\n",
    "    print(\"Trebuie să verificăm codul!\")\n",
    "else:\n",
    "    print(\"Totul funcționează perfect!\")\n",
    "\n",
    "\n",
    "nume_prenume = \"John Doe\"\n",
    "\n",
    "if len(text) > len(nume_prenume):\n",
    "    print(\"Textul este mai lung.\")\n",
    "elif len(text) < len(nume_prenume):\n",
    "    print(\"Numele și prenumele sunt mai lungi.\")\n",
    "else:\n",
    "    print(\"Cele două string-uri au lungimea egală.\")\n",
    "\n"
   ]
  },
  {
   "cell_type": "code",
   "execution_count": 7,
   "metadata": {},
   "outputs": [
    {
     "name": "stdout",
     "output_type": "stream",
     "text": [
      "Bine\n",
      "5 se află în intervalul de la 0 la 11.\n",
      "FizzBuzz\n",
      "An bisect\n"
     ]
    }
   ],
   "source": [
    "nota = 8\n",
    "if nota >= 9:\n",
    "    print(\"Excelent\")\n",
    "elif 7 <= nota <= 8:\n",
    "    print(\"Bine\")\n",
    "elif 5 <= nota <= 6:\n",
    "    print(\"Satisfăcător\")\n",
    "else:\n",
    "    print(\"Insuficient\")\n",
    "\n",
    "\n",
    "a = 5\n",
    "b = 11\n",
    "\n",
    "if 0 <= a <= b:\n",
    "    print(f\"{a} se află în intervalul de la 0 la {b}.\")\n",
    "\n",
    "\n",
    "numar = 15\n",
    "\n",
    "if numar % 3 == 0 and numar % 5 == 0:\n",
    "    print(\"FizzBuzz\")\n",
    "elif numar % 3 == 0:\n",
    "    print(\"Fizz\")\n",
    "elif numar % 5 == 0:\n",
    "    print(\"Buzz\")\n",
    "\n",
    "\n",
    "an = 2024\n",
    "if (an % 4 == 0 and an % 100 != 0) or (an % 400 == 0):\n",
    "    print(\"An bisect\")\n",
    "else:\n",
    "    print(\"An obișnuit\")"
   ]
  },
  {
   "cell_type": "code",
   "execution_count": 9,
   "metadata": {},
   "outputs": [
    {
     "name": "stdout",
     "output_type": "stream",
     "text": [
      "Lista originală: [1, 2, 3, 4, 5, 6, 7, 8, 9, 10]\n",
      "Lista inversată: [10, 9, 8, 7, 6, 5, 4, 3, 2, 1]\n",
      "Numerele pare: [2, 4, 6, 8, 10, 12, 14, 16, 18, 20]\n",
      "Primele 5 elemente din lista modificată: [1, 2, 3, 4, 5]\n",
      "Lista după eliminarea elementului de pe poziția a 5-a: [1, 2, 3, 4, 6, 7, 8, 9, 10, 11, 12, 13, 14, 15, 16, 17, 18, 19, 20]\n",
      "Elementul de pe poziția 0 este 1\n",
      "Elementul de pe poziția 1 este 2\n",
      "Elementul de pe poziția 2 este 3\n",
      "Elementul de pe poziția 3 este 4\n",
      "Elementul de pe poziția 4 este 6\n",
      "Elementul de pe poziția 5 este 7\n",
      "Elementul de pe poziția 6 este 8\n",
      "Elementul de pe poziția 7 este 9\n",
      "Elementul de pe poziția 8 este 10\n",
      "Elementul de pe poziția 9 este 11\n",
      "Elementul de pe poziția 10 este 12\n",
      "Elementul de pe poziția 11 este 13\n",
      "Elementul de pe poziția 12 este 14\n",
      "Elementul de pe poziția 13 este 15\n",
      "Elementul de pe poziția 14 este 16\n",
      "Elementul de pe poziția 15 este 17\n",
      "Elementul de pe poziția 16 este 18\n",
      "Elementul de pe poziția 17 este 19\n",
      "Elementul de pe poziția 18 este 20\n",
      "Elemente listei de la sfârșit la început: [20, 19, 18, 17, 16, 15, 14, 13, 12, 11, 10, 9, 8, 7, 6, 4, 3, 2, 1]\n"
     ]
    },
    {
     "ename": "ValueError",
     "evalue": "invalid literal for int() with base 10: ''",
     "output_type": "error",
     "traceback": [
      "\u001b[0;31m---------------------------------------------------------------------------\u001b[0m",
      "\u001b[0;31mValueError\u001b[0m                                Traceback (most recent call last)",
      "Cell \u001b[0;32mIn[9], line 30\u001b[0m\n\u001b[1;32m     26\u001b[0m \u001b[38;5;28mprint\u001b[39m(\u001b[38;5;124m\"\u001b[39m\u001b[38;5;124mElemente listei de la sfârșit la început:\u001b[39m\u001b[38;5;124m\"\u001b[39m, lista_numere[::\u001b[38;5;241m-\u001b[39m\u001b[38;5;241m1\u001b[39m])\n\u001b[1;32m     29\u001b[0m \u001b[38;5;28;01mfor\u001b[39;00m _ \u001b[38;5;129;01min\u001b[39;00m \u001b[38;5;28mrange\u001b[39m(\u001b[38;5;241m5\u001b[39m):\n\u001b[0;32m---> 30\u001b[0m     element_nou \u001b[38;5;241m=\u001b[39m \u001b[38;5;28;43mint\u001b[39;49m\u001b[43m(\u001b[49m\u001b[38;5;28;43minput\u001b[39;49m\u001b[43m(\u001b[49m\u001b[38;5;124;43m\"\u001b[39;49m\u001b[38;5;124;43mIntroduceți un element nou: \u001b[39;49m\u001b[38;5;124;43m\"\u001b[39;49m\u001b[43m)\u001b[49m\u001b[43m)\u001b[49m\n\u001b[1;32m     31\u001b[0m     lista_numere\u001b[38;5;241m.\u001b[39mappend(element_nou)\n\u001b[1;32m     33\u001b[0m numar_cautat \u001b[38;5;241m=\u001b[39m \u001b[38;5;28mint\u001b[39m(\u001b[38;5;28minput\u001b[39m(\u001b[38;5;124m\"\u001b[39m\u001b[38;5;124mIntroduceți un număr pentru verificare: \u001b[39m\u001b[38;5;124m\"\u001b[39m))\n",
      "\u001b[0;31mValueError\u001b[0m: invalid literal for int() with base 10: ''"
     ]
    }
   ],
   "source": [
    "\n",
    "lista_numere = list(range(1, 11))\n",
    "print(\"Lista originală:\", lista_numere)\n",
    "\n",
    "\n",
    "lista_inversata = list(reversed(lista_numere))\n",
    "print(\"Lista inversată:\", lista_inversata)\n",
    "\n",
    "lista_numere.extend(range(11, 21))\n",
    "numere_pare = [numar for numar in lista_numere if numar % 2 == 0]\n",
    "print(\"Numerele pare:\", numere_pare)\n",
    "\n",
    "\n",
    "sublista_prime_cinci = lista_numere[:5]\n",
    "print(\"Primele 5 elemente din lista modificată:\", sublista_prime_cinci)\n",
    "\n",
    "\n",
    "lista_numere.pop(4)  \n",
    "\n",
    "print(\"Lista după eliminarea elementului de pe poziția a 5-a:\", lista_numere)\n",
    "\n",
    "\n",
    "for index, element in enumerate(lista_numere):\n",
    "    print(f\"Elementul de pe poziția {index} este {element}\")\n",
    "\n",
    "\n",
    "print(\"Elemente listei de la sfârșit la început:\", lista_numere[::-1])\n",
    "\n",
    "\n",
    "for _ in range(5):\n",
    "    element_nou = int(input(\"Introduceți un element nou: \"))\n",
    "    lista_numere.append(element_nou)\n",
    "\n",
    "numar_cautat = int(input(\"Introduceți un număr pentru verificare: \"))\n",
    "if numar_cautat in lista_numere:\n",
    "    print(f\"Numărul {numar_cautat} se găsește în listă.\")\n",
    "else:\n",
    "    print(f\"Numărul {numar_cautat} nu se găsește în listă.\")\n",
    "\n",
    "\n",
    "while lista_numere[0] <= 50:\n",
    "    lista_numere = [element * 2 for element in lista_numere]\n",
    "\n",
    "\n",
    "lista_numere.sort()\n",
    "print(\"Lista sortată în ordine crescătoare:\", lista_numere)\n",
    "\n",
    "lista_numere.sort(reverse=True)\n",
    "print(\"Lista sortată în ordine descrescătoare:\", lista_numere)\n"
   ]
  },
  {
   "cell_type": "code",
   "execution_count": null,
   "metadata": {},
   "outputs": [
    {
     "name": "stdout",
     "output_type": "stream",
     "text": [
      "Numere pătrat perfect: [1, 4, 9, 16, 25, 36, 49, 64, 81, 100]\n",
      "Elemente impare: [4, 16, 36, 64, 100]\n",
      "Lista originală: [33, 41, 53, 10, 71, 79, 91, 97, 32, 66]\n",
      "Lista sortată: [10, 32, 33, 41, 53, 66, 71, 79, 91, 97]\n",
      "Lista este palindromă\n",
      "7 x 1 = 7\n",
      "7 x 2 = 14\n",
      "7 x 3 = 21\n",
      "7 x 4 = 28\n",
      "7 x 5 = 35\n",
      "7 x 6 = 42\n",
      "7 x 7 = 49\n",
      "7 x 8 = 56\n",
      "7 x 9 = 63\n",
      "7 x 10 = 70\n",
      "Lista de perechi: [(1, 1), (1, 2), (1, 3), (1, 4), (1, 5), (2, 1), (2, 2), (2, 3), (2, 4), (2, 5), (3, 1), (3, 2), (3, 3), (3, 4), (3, 5), (4, 1), (4, 2), (4, 3), (4, 4), (4, 5), (5, 1), (5, 2), (5, 3), (5, 4), (5, 5)]\n",
      "Perechile cu i < j: [(1, 2), (1, 3), (1, 4), (1, 5), (2, 3), (2, 4), (2, 5), (3, 4), (3, 5), (4, 5)]\n",
      "Lungimile string-urilor: [3, 5, 6]\n",
      "Prima valoare mai mare decât 10 este: 33\n",
      "Elementul nu există\n"
     ]
    }
   ],
   "source": [
    "import math\n",
    "import random\n",
    "\n",
    "\n",
    "numere_patrat_perfect = [i for i in range(1, 101) if math.isqrt(i)**2 == i]\n",
    "print(\"Numere pătrat perfect:\", numere_patrat_perfect)\n",
    "\n",
    "\n",
    "numere_impare = numere_patrat_perfect[1::2]\n",
    "print(\"Elemente impare:\", numere_impare)\n",
    "\n",
    "\n",
    "lista_aleatoare = random.sample(range(1, 101), 10)\n",
    "print(\"Lista originală:\", lista_aleatoare)\n",
    "print(\"Lista sortată:\", sorted(lista_aleatoare))\n",
    "\n",
    "\n",
    "lista_palindrom = [1, 2, 3, 4, 5, 4, 3, 2, 1]\n",
    "if lista_palindrom == lista_palindrom[::-1]:\n",
    "    print(\"Lista este palindromă\")\n",
    "else:\n",
    "    print(\"Lista nu este palindromă\")\n",
    "\n",
    "numar_inmultire = 7\n",
    "for i in range(1, 11):\n",
    "    rezultat = numar_inmultire * i\n",
    "    print(f\"{numar_inmultire} x {i} = {rezultat}\")\n",
    "\n",
    "lista_perechi = [(i, j) for i in range(1, 6) for j in range(1, 6)]\n",
    "print(\"Lista de perechi:\", lista_perechi)\n",
    "\n",
    "\n",
    "perechi_i_mai_mici_j = [(i, j) for (i, j) in lista_perechi if i < j]\n",
    "print(\"Perechile cu i < j:\", perechi_i_mai_mici_j)\n",
    "\n",
    "\n",
    "lista_stringuri = [\"abc\", \"hello\", \"python\"]\n",
    "lungimi_stringuri = [len(s) for s in lista_stringuri]\n",
    "print(\"Lungimile string-urilor:\", lungimi_stringuri)\n",
    "\n",
    "\n",
    "index = 0\n",
    "while lista_aleatoare[index] <= 10:\n",
    "    index += 1\n",
    "\n",
    "if index < len(lista_aleatoare):\n",
    "    print(f\"Prima valoare mai mare decât 10 este: {lista_aleatoare[index]}\")\n",
    "else:\n",
    "    print(\"Nu există valori mai mari decât 10.\")\n",
    "\n",
    "\n",
    "element_cautat = 42\n",
    "for element in lista_aleatoare:\n",
    "    if element == element_cautat:\n",
    "        print(\"Elementul există\")\n",
    "        break\n",
    "else:\n",
    "    print(\"Elementul nu există\")\n"
   ]
  },
  {
   "cell_type": "code",
   "execution_count": null,
   "metadata": {},
   "outputs": [
    {
     "name": "stdout",
     "output_type": "stream",
     "text": [
      "1\n",
      "12\n",
      "123\n",
      "1234\n",
      "12345\n",
      "123456\n",
      "\n",
      "1\n",
      "12\n",
      "123\n",
      "1234\n",
      "12345\n",
      "123456\n",
      "5432\n",
      "543\n",
      "54\n",
      "5\n",
      "\n",
      "54321\n",
      "5432\n",
      "543\n",
      "54\n",
      "5\n"
     ]
    }
   ],
   "source": [
    "\n",
    "\n",
    "for i in range(1, 7):\n",
    "    for j in range(1, i + 1):\n",
    "        print(j, end=\"\")\n",
    "    print()\n",
    "\n",
    "print()\n",
    "\n",
    "i = 1\n",
    "while i <= 6:\n",
    "    j = 1\n",
    "    while j <= i:\n",
    "        print(j, end=\"\")\n",
    "        j += 1\n",
    "    print()\n",
    "    i += 1\n",
    "\n",
    "\n",
    "\n",
    "for i in range(5, 0, -1):\n",
    "    for j in range(5, 6 - i, -1):\n",
    "        print(j, end=\"\")\n",
    "    print()\n",
    "\n",
    "\n",
    "i = 5\n",
    "while i >= 1:\n",
    "    j = 5\n",
    "    while j >= 6 - i:\n",
    "        print(j, end=\"\")\n",
    "        j -= 1\n",
    "    print()\n",
    "    i -= 1\n"
   ]
  },
  {
   "cell_type": "code",
   "execution_count": null,
   "metadata": {},
   "outputs": [
    {
     "name": "stdout",
     "output_type": "stream",
     "text": [
      "* * * * * * \n",
      "* * * * * * \n",
      "* * * * * * \n",
      "* * * * * * \n",
      "* * * * * * \n",
      "* * * * * * \n"
     ]
    }
   ],
   "source": [
    "\n",
    "dimensiune = 6\n",
    "\n",
    "# Crearea pătratului de stele\n",
    "for i in range(dimensiune):\n",
    "    for j in range(dimensiune):\n",
    "        print(\"* \", end=\"\")\n",
    "    print()\n"
   ]
  },
  {
   "cell_type": "code",
   "execution_count": null,
   "metadata": {},
   "outputs": [
    {
     "name": "stdout",
     "output_type": "stream",
     "text": [
      "abcdefg\n",
      "bcdefg\n",
      "cdefg\n",
      "defg\n",
      "efg\n",
      "fg\n",
      "g\n"
     ]
    }
   ],
   "source": [
    "\n",
    "text = \"abcdefg\"\n",
    "\n",
    "for i in range(len(text)):\n",
    "    print(text[i:])\n"
   ]
  },
  {
   "cell_type": "code",
   "execution_count": null,
   "metadata": {},
   "outputs": [
    {
     "name": "stdout",
     "output_type": "stream",
     "text": [
      "+-+-+-+-+-+-+-+\n",
      "-+-+-+-+-+-+-+-\n",
      "+-+-+-+-+-+-+-+\n",
      "-+-+-+-+-+-+-+-\n",
      "+-+-+-+-+-+-+-+\n",
      "-+-+-+-+-+-+-+-\n",
      "+-+-+-+-+-+-+-+\n",
      "-+-+-+-+-+-+-+-\n"
     ]
    }
   ],
   "source": [
    "# Afișarea 4\n",
    "numar_linii = 8\n",
    "lungime_linie = 15\n",
    "\n",
    "for i in range(numar_linii):\n",
    "    if i % 2 == 0:\n",
    "        print('+' + '-+' * (lungime_linie // 2))\n",
    "    else:\n",
    "        print('-+' * (lungime_linie // 2) + '-')\n"
   ]
  },
  {
   "cell_type": "code",
   "execution_count": null,
   "metadata": {},
   "outputs": [
    {
     "name": "stdout",
     "output_type": "stream",
     "text": [
      "1 \n",
      "1 3 \n",
      "1 3 9 \n",
      "1 3 9 27 \n",
      "1 3 9 27 81 \n",
      "1 3 9 27 81 243 \n",
      "3 9 27 81 243 \n",
      "9 27 81 243 \n",
      "27 81 243 \n",
      "81 243 \n",
      "243 \n"
     ]
    }
   ],
   "source": [
    "\n",
    "numar_linii = 6\n",
    "baza = 3\n",
    "\n",
    "for i in range(numar_linii):\n",
    "    for j in range(i + 1):\n",
    "        print(baza ** j, end=\" \")\n",
    "    print()\n",
    "    \n",
    "for i in range(1, numar_linii):\n",
    "    for j in range(i, numar_linii):\n",
    "        print(baza ** j, end=\" \")\n",
    "    print()\n"
   ]
  },
  {
   "cell_type": "code",
   "execution_count": null,
   "metadata": {},
   "outputs": [
    {
     "name": "stdout",
     "output_type": "stream",
     "text": [
      "*\n",
      "**\n",
      "***\n",
      "****\n",
      "*****\n"
     ]
    }
   ],
   "source": [
    "def print_pyramid(n):\n",
    "    \"\"\"\n",
    "    Printează o piramidă cu înălțimea n folosind caracterul \"*\".\n",
    "\n",
    "    Parametri:\n",
    "    - n (int): Înălțimea piramidei.\n",
    "\n",
    "    Exemplu de utilizare:\n",
    "    >>> print_pyramid(5)\n",
    "    *\n",
    "    **\n",
    "    ***\n",
    "    ****\n",
    "    *****\n",
    "    \"\"\"\n",
    "    for i in range(n):\n",
    "        print('*' * (i + 1))\n",
    "\n",
    "\n",
    "print_pyramid(5)\n"
   ]
  },
  {
   "cell_type": "code",
   "execution_count": null,
   "metadata": {},
   "outputs": [
    {
     "name": "stdout",
     "output_type": "stream",
     "text": [
      "False\n",
      "True\n"
     ]
    }
   ],
   "source": [
    "def is_prime(num):\n",
    "    \"\"\"\n",
    "    Verifică dacă un număr este prim.\n",
    "\n",
    "    Parametri:\n",
    "    - num (int): Numărul de verificat.\n",
    "\n",
    "    Returnează:\n",
    "    - bool: True dacă numărul este prim, False altfel.\n",
    "\n",
    "    Exemplu de utilizare:\n",
    "    >>> is_prime(11)\n",
    "    True\n",
    "    >>> is_prime(20)\n",
    "    False\n",
    "    \"\"\"\n",
    "    if num < 2:\n",
    "        return False\n",
    "    for i in range(2, int(num**0.5) + 1):\n",
    "        if num % i == 0:\n",
    "            return False\n",
    "    return True\n",
    "\n",
    "\n",
    "print(is_prime(14))\n",
    "print(is_prime(11))\n"
   ]
  },
  {
   "cell_type": "code",
   "execution_count": null,
   "metadata": {},
   "outputs": [
    {
     "name": "stdout",
     "output_type": "stream",
     "text": [
      "{'media': 3.7142857142857144, 'mediana': 4, 'mod': 5}\n"
     ]
    }
   ],
   "source": [
    "from statistics import median, mode\n",
    "\n",
    "def calculate_stats(numbers):\n",
    "    \"\"\"\n",
    "    Calculează media, mediana și modul unei liste de numere.\n",
    "\n",
    "    Parametri:\n",
    "    - numbers (list): Lista de numere.\n",
    "\n",
    "    Returnează:\n",
    "    - dict: Dicționar cu cheile 'media', 'mediana' și 'mod' și valorile corespunzătoare.\n",
    "\n",
    "    Exemplu de utilizare:\n",
    "    >>> calculate_stats([1, 2, 3, 4, 5, 5, 6])\n",
    "    {'media': 3.5714285714285716, 'mediana': 4, 'mod': 5}\n",
    "    \"\"\"\n",
    "    if not numbers:\n",
    "        return None\n",
    "\n",
    "    return {\n",
    "        'media': sum(numbers) / len(numbers),\n",
    "        'mediana': median(numbers),\n",
    "        'mod': mode(numbers)\n",
    "    }\n",
    "\n",
    "\n",
    "print(calculate_stats([1, 2, 3, 4, 5, 5, 6]))\n"
   ]
  },
  {
   "cell_type": "code",
   "execution_count": null,
   "metadata": {},
   "outputs": [
    {
     "name": "stdout",
     "output_type": "stream",
     "text": [
      "5\n"
     ]
    }
   ],
   "source": [
    "def fibonacci(n):\n",
    "    \"\"\"\n",
    "    Returnează al n-lea element din șirul lui Fibonacci.\n",
    "\n",
    "    Parametri:\n",
    "    - n (int): Poziția elementului în șirul Fibonacci.\n",
    "\n",
    "    Returnează:\n",
    "    - int: Elementul de pe poziția n din șirul Fibonacci.\n",
    "\n",
    "    Exemplu de utilizare:\n",
    "    >>> fibonacci(6)\n",
    "    8\n",
    "    \"\"\"\n",
    "    if n <= 0:\n",
    "        return \"n trebuie să fie un număr întreg pozitiv\"\n",
    "    elif n == 1:\n",
    "        return 0\n",
    "    elif n == 2:\n",
    "        return 1\n",
    "    else:\n",
    "        a, b = 0, 1\n",
    "        for _ in range(n - 2):\n",
    "            a, b = b, a + b\n",
    "        return b\n",
    "\n",
    "\n",
    "print(fibonacci(6))\n"
   ]
  },
  {
   "cell_type": "code",
   "execution_count": null,
   "metadata": {},
   "outputs": [
    {
     "name": "stdout",
     "output_type": "stream",
     "text": [
      "{1: ['a', 'c'], 2: ['b']}\n"
     ]
    }
   ],
   "source": [
    "def invert_dict(d):\n",
    "    \"\"\"\n",
    "    Inversează cheile cu valorile într-un dicționar.\n",
    "\n",
    "    Parametri:\n",
    "    - d (dict): Dicționarul de inversat.\n",
    "\n",
    "    Returnează:\n",
    "    - dict: Dicționarul rezultat.\n",
    "\n",
    "    Exemplu de utilizare:\n",
    "    >>> invert_dict({'a': 1, 'b': 2, 'c': 1})\n",
    "    {1: ['a', 'c'], 2: ['b']}\n",
    "    \"\"\"\n",
    "    inverted_dict = {}\n",
    "    for key, value in d.items():\n",
    "        inverted_dict.setdefault(value, []).append(key)\n",
    "    return inverted_dict\n",
    "\n",
    "# Exemplu de utilizare\n",
    "print(invert_dict({'a': 1, 'b': 2, 'c': 1}))\n"
   ]
  },
  {
   "cell_type": "code",
   "execution_count": null,
   "metadata": {},
   "outputs": [
    {
     "name": "stdout",
     "output_type": "stream",
     "text": [
      "{'a': 5, 'b': 2, 'r': 2, 'c': 1, 'd': 1}\n"
     ]
    }
   ],
   "source": [
    "def char_histogram(s):\n",
    "    \"\"\"\n",
    "    Calculează frecvența fiecărui caracter dintr-un șir.\n",
    "\n",
    "    Parametri:\n",
    "    - s (str): Șirul de caractere pentru a calcula histograma.\n",
    "\n",
    "    Returnează:\n",
    "    - dict: Dicționar cu fiecare caracter și frecvența sa.\n",
    "\n",
    "    Exemplu de utilizare:\n",
    "    >>> char_histogram(\"abracadabra\")\n",
    "    {'a': 5, 'b': 2, 'r': 2, 'c': 1, 'd': 1}\n",
    "    \"\"\"\n",
    "    histogram = {}\n",
    "    for char in s:\n",
    "        histogram[char] = histogram.get(char, 0) + 1\n",
    "    return histogram\n",
    "\n",
    "\n",
    "print(char_histogram(\"abracadabra\"))\n"
   ]
  },
  {
   "cell_type": "code",
   "execution_count": null,
   "metadata": {},
   "outputs": [
    {
     "name": "stdout",
     "output_type": "stream",
     "text": [
      "[1, 2, 3, 4, 5]\n"
     ]
    }
   ],
   "source": [
    "def unique_elements(lst):\n",
    "    \"\"\"\n",
    "    Extrage elementele unice dintr-o listă.\n",
    "\n",
    "    Parametri:\n",
    "    - lst (list): Lista de la care să se extragă elementele unice.\n",
    "\n",
    "    Returnează:\n",
    "    - list: Lista cu elementele unice.\n",
    "\n",
    "    Exemplu de utilizare:\n",
    "    >>> unique_elements([1, 2, 2, 3, 4, 4, 5])\n",
    "    [1, 2, 3, 4, 5]\n",
    "    \"\"\"\n",
    "    return list(set(lst))\n",
    "\n",
    "\n",
    "print(unique_elements([1, 2, 2, 3, 4, 4, 5]))\n"
   ]
  },
  {
   "cell_type": "code",
   "execution_count": null,
   "metadata": {},
   "outputs": [
    {
     "name": "stdout",
     "output_type": "stream",
     "text": [
      "[3, 4]\n"
     ]
    }
   ],
   "source": [
    "def common_elements(lst1, lst2):\n",
    "    \"\"\"\n",
    "    Returnează lista cu elementele comune ale celor două liste.\n",
    "\n",
    "    Parametri:\n",
    "    - lst1 (list): Prima listă.\n",
    "    - lst2 (list): A doua listă.\n",
    "\n",
    "    Returnează:\n",
    "    - list: Lista cu elementele comune.\n",
    "\n",
    "    Exemplu de utilizare:\n",
    "    >>> common_elements([1, 2, 3, 4], [3, 4, 5, 6])\n",
    "    [3, 4]\n",
    "    \"\"\"\n",
    "    return list(set(lst1) & set(lst2))\n",
    "\n",
    "\n",
    "print(common_elements([1, 2, 3, 4], [3, 4, 5, 6]))\n"
   ]
  }
 ],
 "metadata": {
  "kernelspec": {
   "display_name": "Python 3",
   "language": "python",
   "name": "python3"
  },
  "language_info": {
   "codemirror_mode": {
    "name": "ipython",
    "version": 3
   },
   "file_extension": ".py",
   "mimetype": "text/x-python",
   "name": "python",
   "nbconvert_exporter": "python",
   "pygments_lexer": "ipython3",
   "version": "3.12.1"
  }
 },
 "nbformat": 4,
 "nbformat_minor": 2
}
